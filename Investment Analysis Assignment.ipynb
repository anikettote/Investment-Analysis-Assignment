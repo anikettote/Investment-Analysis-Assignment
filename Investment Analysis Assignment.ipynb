{
 "cells": [
  {
   "cell_type": "markdown",
   "metadata": {},
   "source": [
    "## Investment Analysis Assignment\n",
    "\n",
    "You work for Spark Funds, an asset management company. Spark Funds wants to make investments in a few companies. The CEO of Spark Funds wants to understand the global trends in investments so that she can take the investment decisions effectively.\n",
    "\n",
    "**Available Data for Analysis:**\n",
    "  1. Company details\n",
    "  2. Funding round details \n",
    "  3. Sector Classification\n",
    "  \n",
    "**Spark Funds’ business objective:**\n",
    "  1. **Business objective:** The objective is to identify the best sectors, countries, and a suitable investment type for making                            investments. The overall strategy is to invest where others are investing, implying that the 'best'                            sectors and countries are the ones 'where most investors are investing'.\n",
    "  \n",
    "  \n",
    "  2. **Goals of data analysis:**\n",
    "      1. Investment type analysis\n",
    "      2. Country analysis\n",
    "      3. Sector analysis"
   ]
  },
  {
   "cell_type": "markdown",
   "metadata": {},
   "source": [
    "# Checkpoints - Part 1\n",
    "## Checkpoint 1: Data Cleaning"
   ]
  },
  {
   "cell_type": "code",
   "execution_count": 1,
   "metadata": {},
   "outputs": [],
   "source": [
    "#Import python liberaries.\n",
    "import numpy as np\n",
    "import pandas as pd\n",
    "import matplotlib.pyplot as plt\n",
    "import seaborn as sns"
   ]
  },
  {
   "cell_type": "markdown",
   "metadata": {},
   "source": [
    "Read data from files to **pandas dataframe**."
   ]
  },
  {
   "cell_type": "code",
   "execution_count": 2,
   "metadata": {},
   "outputs": [],
   "source": [
    "#ABC = pd.read_csv(\"ABC.csv\",encoding='ISO-8859-1')\n",
    "#ABC\n",
    "#print(len(ABC.index))\n",
    "#print(ABC.isnull().sum())\n",
    "#print(100*(ABC.isnull().sum()/len(ABC.index)))"
   ]
  },
  {
   "cell_type": "code",
   "execution_count": 2,
   "metadata": {},
   "outputs": [],
   "source": [
    "companies = pd.read_csv(\"companies.txt\", sep=\"\\t\", encoding = \"ISO-8859-1\")\n",
    "rounds2 = pd.read_csv(\"rounds2.csv\",encoding='ISO-8859-1')"
   ]
  },
  {
   "cell_type": "markdown",
   "metadata": {},
   "source": [
    "**Data Analysis of companies DataFrame.**\n"
   ]
  },
  {
   "cell_type": "code",
   "execution_count": 3,
   "metadata": {},
   "outputs": [
    {
     "data": {
      "text/plain": [
       "(66368, 10)"
      ]
     },
     "execution_count": 3,
     "metadata": {},
     "output_type": "execute_result"
    }
   ],
   "source": [
    "#The dimensionality of the Companies DataFrame\n",
    "companies.shape"
   ]
  },
  {
   "cell_type": "code",
   "execution_count": 5,
   "metadata": {},
   "outputs": [
    {
     "name": "stdout",
     "output_type": "stream",
     "text": [
      "<class 'pandas.core.frame.DataFrame'>\n",
      "RangeIndex: 66368 entries, 0 to 66367\n",
      "Data columns (total 10 columns):\n",
      "permalink        66368 non-null object\n",
      "name             66367 non-null object\n",
      "homepage_url     61310 non-null object\n",
      "category_list    63220 non-null object\n",
      "status           66368 non-null object\n",
      "country_code     59410 non-null object\n",
      "state_code       57821 non-null object\n",
      "region           58338 non-null object\n",
      "city             58340 non-null object\n",
      "founded_at       51147 non-null object\n",
      "dtypes: object(10)\n",
      "memory usage: 5.1+ MB\n"
     ]
    }
   ],
   "source": [
    "#Information of the Companies DataFrame\n",
    "companies.info()"
   ]
  },
  {
   "cell_type": "code",
   "execution_count": 6,
   "metadata": {},
   "outputs": [
    {
     "data": {
      "text/plain": [
       "permalink            0\n",
       "name                 1\n",
       "homepage_url      5058\n",
       "category_list     3148\n",
       "status               0\n",
       "country_code      6958\n",
       "state_code        8547\n",
       "region            8030\n",
       "city              8028\n",
       "founded_at       15221\n",
       "dtype: int64"
      ]
     },
     "execution_count": 6,
     "metadata": {},
     "output_type": "execute_result"
    }
   ],
   "source": [
    "#Missing values of the Companies DataFrame\n",
    "companies.isnull().sum()"
   ]
  },
  {
   "cell_type": "markdown",
   "metadata": {},
   "source": [
    "**Data Analysis of rounds2 DataFrame**"
   ]
  },
  {
   "cell_type": "code",
   "execution_count": 7,
   "metadata": {},
   "outputs": [
    {
     "data": {
      "text/plain": [
       "(114949, 6)"
      ]
     },
     "execution_count": 7,
     "metadata": {},
     "output_type": "execute_result"
    }
   ],
   "source": [
    "#The dimensionality of the rounds2 DataFrame\n",
    "rounds2.shape"
   ]
  },
  {
   "cell_type": "code",
   "execution_count": 8,
   "metadata": {},
   "outputs": [
    {
     "name": "stdout",
     "output_type": "stream",
     "text": [
      "<class 'pandas.core.frame.DataFrame'>\n",
      "RangeIndex: 114949 entries, 0 to 114948\n",
      "Data columns (total 6 columns):\n",
      "company_permalink          114949 non-null object\n",
      "funding_round_permalink    114949 non-null object\n",
      "funding_round_type         114949 non-null object\n",
      "funding_round_code         31140 non-null object\n",
      "funded_at                  114949 non-null object\n",
      "raised_amount_usd          94959 non-null float64\n",
      "dtypes: float64(1), object(5)\n",
      "memory usage: 5.3+ MB\n"
     ]
    }
   ],
   "source": [
    "#Information of the rounds2 DataFrame\n",
    "rounds2.info()"
   ]
  },
  {
   "cell_type": "code",
   "execution_count": 9,
   "metadata": {},
   "outputs": [
    {
     "data": {
      "text/plain": [
       "company_permalink              0\n",
       "funding_round_permalink        0\n",
       "funding_round_type             0\n",
       "funding_round_code         83809\n",
       "funded_at                      0\n",
       "raised_amount_usd          19990\n",
       "dtype: int64"
      ]
     },
     "execution_count": 9,
     "metadata": {},
     "output_type": "execute_result"
    }
   ],
   "source": [
    "#Missing values of the rounds2 DataFrame\n",
    "rounds2.isnull().sum()"
   ]
  },
  {
   "cell_type": "markdown",
   "metadata": {},
   "source": [
    "The company_permalink colmn of rounds2 dataframe has some entry is in uppercase and some is in lower case.\n",
    "Before moving further converting company_permalink colmn to lower case. Also for safe side converting the permalink column of   companies dataframe to lower case.          "
   ]
  },
  {
   "cell_type": "code",
   "execution_count": 10,
   "metadata": {},
   "outputs": [],
   "source": [
    "#Convert 'company_permalink' column of rounds2 and 'permalink' column of companies to lower case.\n",
    "rounds2['company_permalink'] = rounds2['company_permalink'].str.lower()\n",
    "companies['permalink'] = companies['permalink'].str.lower()"
   ]
  },
  {
   "cell_type": "code",
   "execution_count": 11,
   "metadata": {},
   "outputs": [
    {
     "name": "stdout",
     "output_type": "stream",
     "text": [
      "66370\n",
      "66368\n"
     ]
    }
   ],
   "source": [
    "#Unique companies are present in rounds2 and companies.\n",
    "print(len(rounds2['company_permalink'].unique()))\n",
    "print(len(companies['permalink'].unique()))"
   ]
  },
  {
   "cell_type": "code",
   "execution_count": 12,
   "metadata": {},
   "outputs": [
    {
     "data": {
      "text/html": [
       "<div>\n",
       "<style scoped>\n",
       "    .dataframe tbody tr th:only-of-type {\n",
       "        vertical-align: middle;\n",
       "    }\n",
       "\n",
       "    .dataframe tbody tr th {\n",
       "        vertical-align: top;\n",
       "    }\n",
       "\n",
       "    .dataframe thead th {\n",
       "        text-align: right;\n",
       "    }\n",
       "</style>\n",
       "<table border=\"1\" class=\"dataframe\">\n",
       "  <thead>\n",
       "    <tr style=\"text-align: right;\">\n",
       "      <th></th>\n",
       "      <th>permalink</th>\n",
       "      <th>name</th>\n",
       "      <th>homepage_url</th>\n",
       "      <th>category_list</th>\n",
       "      <th>status</th>\n",
       "      <th>country_code</th>\n",
       "      <th>state_code</th>\n",
       "      <th>region</th>\n",
       "      <th>city</th>\n",
       "      <th>founded_at</th>\n",
       "    </tr>\n",
       "  </thead>\n",
       "  <tbody>\n",
       "    <tr>\n",
       "      <td>16827</td>\n",
       "      <td>/organization/e-cãbica</td>\n",
       "      <td>E CÃBICA</td>\n",
       "      <td>NaN</td>\n",
       "      <td>NaN</td>\n",
       "      <td>operating</td>\n",
       "      <td>NaN</td>\n",
       "      <td>NaN</td>\n",
       "      <td>NaN</td>\n",
       "      <td>NaN</td>\n",
       "      <td>NaN</td>\n",
       "    </tr>\n",
       "    <tr>\n",
       "      <td>18197</td>\n",
       "      <td>/organization/energystone-games-çµçÿ³æ¸¸æ</td>\n",
       "      <td>EnergyStone Games çµç³æ¸¸æ</td>\n",
       "      <td>NaN</td>\n",
       "      <td>Mobile Games|Online Gaming</td>\n",
       "      <td>closed</td>\n",
       "      <td>NaN</td>\n",
       "      <td>NaN</td>\n",
       "      <td>NaN</td>\n",
       "      <td>NaN</td>\n",
       "      <td>06-01-2013</td>\n",
       "    </tr>\n",
       "    <tr>\n",
       "      <td>26139</td>\n",
       "      <td>/organization/huizuche-com-æ ç§è½¦</td>\n",
       "      <td>Huizuche.com æ ç§è½¦</td>\n",
       "      <td>http://huizuche.com</td>\n",
       "      <td>NaN</td>\n",
       "      <td>closed</td>\n",
       "      <td>NaN</td>\n",
       "      <td>NaN</td>\n",
       "      <td>NaN</td>\n",
       "      <td>NaN</td>\n",
       "      <td>24-04-2014</td>\n",
       "    </tr>\n",
       "    <tr>\n",
       "      <td>58344</td>\n",
       "      <td>/organization/tipcat-interactive-æ²èä¿¡æ¯ç...</td>\n",
       "      <td>TipCat Interactive æ²èä¿¡æ¯ç§æ</td>\n",
       "      <td>http://www.tipcat.com</td>\n",
       "      <td>Mobile Games|Online Gaming</td>\n",
       "      <td>closed</td>\n",
       "      <td>NaN</td>\n",
       "      <td>NaN</td>\n",
       "      <td>NaN</td>\n",
       "      <td>NaN</td>\n",
       "      <td>18-08-2009</td>\n",
       "    </tr>\n",
       "    <tr>\n",
       "      <td>65778</td>\n",
       "      <td>/organization/zengame-ç¦",
       "æ¸¸ç§æ</td>\n",
       "      <td>ZenGame ç¦",
       "æ¸¸ç§æ</td>\n",
       "      <td>http://www.zen-game.com</td>\n",
       "      <td>Internet|Mobile Games|Online Gaming</td>\n",
       "      <td>closed</td>\n",
       "      <td>NaN</td>\n",
       "      <td>NaN</td>\n",
       "      <td>NaN</td>\n",
       "      <td>NaN</td>\n",
       "      <td>17-07-2010</td>\n",
       "    </tr>\n",
       "  </tbody>\n",
       "</table>\n",
       "</div>"
      ],
      "text/plain": [
       "                                               permalink  \\\n",
       "16827                            /organization/e-cãbica   \n",
       "18197       /organization/energystone-games-çµçÿ³æ¸¸æ   \n",
       "26139               /organization/huizuche-com-æ ç§è½¦   \n",
       "58344  /organization/tipcat-interactive-æ²èä¿¡æ¯ç...   \n",
       "65778                 /organization/zengame-ç¦\n",
       "æ¸¸ç§æ   \n",
       "\n",
       "                                        name             homepage_url  \\\n",
       "16827                              E CÃBICA                      NaN   \n",
       "18197         EnergyStone Games çµç³æ¸¸æ                      NaN   \n",
       "26139                 Huizuche.com æ ç§è½¦      http://huizuche.com   \n",
       "58344  TipCat Interactive æ²èä¿¡æ¯ç§æ    http://www.tipcat.com   \n",
       "65778                   ZenGame ç¦\n",
       "æ¸¸ç§æ  http://www.zen-game.com   \n",
       "\n",
       "                             category_list     status country_code state_code  \\\n",
       "16827                                  NaN  operating          NaN        NaN   \n",
       "18197           Mobile Games|Online Gaming     closed          NaN        NaN   \n",
       "26139                                  NaN     closed          NaN        NaN   \n",
       "58344           Mobile Games|Online Gaming     closed          NaN        NaN   \n",
       "65778  Internet|Mobile Games|Online Gaming     closed          NaN        NaN   \n",
       "\n",
       "      region city  founded_at  \n",
       "16827    NaN  NaN         NaN  \n",
       "18197    NaN  NaN  06-01-2013  \n",
       "26139    NaN  NaN  24-04-2014  \n",
       "58344    NaN  NaN  18-08-2009  \n",
       "65778    NaN  NaN  17-07-2010  "
      ]
     },
     "execution_count": 12,
     "metadata": {},
     "output_type": "execute_result"
    }
   ],
   "source": [
    "#Are there any companies in the rounds2 file which are not present in companies?\n",
    "companies.loc[~companies.permalink.isin(rounds2.company_permalink)]"
   ]
  },
  {
   "cell_type": "code",
   "execution_count": 13,
   "metadata": {},
   "outputs": [
    {
     "name": "stdout",
     "output_type": "stream",
     "text": [
      "<class 'pandas.core.frame.DataFrame'>\n",
      "Int64Index: 114949 entries, 0 to 114948\n",
      "Data columns (total 16 columns):\n",
      "company_permalink          114949 non-null object\n",
      "funding_round_permalink    114949 non-null object\n",
      "funding_round_type         114949 non-null object\n",
      "funding_round_code         31140 non-null object\n",
      "funded_at                  114949 non-null object\n",
      "raised_amount_usd          94959 non-null float64\n",
      "permalink                  114942 non-null object\n",
      "name                       114941 non-null object\n",
      "homepage_url               108810 non-null object\n",
      "category_list              111535 non-null object\n",
      "status                     114942 non-null object\n",
      "country_code               106271 non-null object\n",
      "state_code                 104003 non-null object\n",
      "region                     104782 non-null object\n",
      "city                       104785 non-null object\n",
      "founded_at                 94422 non-null object\n",
      "dtypes: float64(1), object(15)\n",
      "memory usage: 14.9+ MB\n"
     ]
    }
   ],
   "source": [
    "#Merging datarame rounds2 with dataframe companies\n",
    "master_frame = pd.merge(rounds2,companies,left_on='company_permalink',right_on='permalink',how='left')\n",
    "master_frame.info()"
   ]
  },
  {
   "cell_type": "markdown",
   "metadata": {},
   "source": [
    "###  Table 1.1: Understand the Data Set \n",
    "\n",
    "| Question                                                            | Answer                  |\n",
    "|---------------------------------------------------------------------|------------------------ |    \n",
    "| How many unique companies are present in rounds2?\t                  | **66370**               |\n",
    "|---------------------------------------------------------------------|-------------------------|\n",
    "| How many unique companies are present in companies?                 | **66368**               |\n",
    "|---------------------------------------------------------------------|-------------------------|   \n",
    "| In the companies data frame, which column can be used as            | **'permalink' column**  |\n",
    "| the unique key for each company? Write the name of the column.      |                         |  \n",
    "|---------------------------------------------------------------------|-------------------------|\n",
    "| Are there any companies in the rounds2 file which are not present   |                         |\n",
    "| in companies? Answer yes or no: Y/N                                 |   **Y**                 |\n",
    "|---------------------------------------------------------------------|-------------------------|\n",
    "| Merge the two data frames so that all variables (columns) in the    | **Number of Row:**      |\n",
    "| companies frame are added to the rounds2 data frame.                |  **114949**             |\n",
    "| Name the merged frame master_frame.                                 |  **Number of column:**  |\n",
    "| How many observations are present in master_frame?                  |  **16**                 |\n",
    "|---------------------------------------------------------------------|-------------------------|"
   ]
  },
  {
   "cell_type": "markdown",
   "metadata": {},
   "source": [
    "### Data Cleaning"
   ]
  },
  {
   "cell_type": "code",
   "execution_count": 13,
   "metadata": {},
   "outputs": [
    {
     "name": "stdout",
     "output_type": "stream",
     "text": [
      "company_permalink           0.000000\n",
      "funding_round_permalink     0.000000\n",
      "funding_round_type          0.000000\n",
      "funding_round_code         72.909725\n",
      "funded_at                   0.000000\n",
      "raised_amount_usd          17.390321\n",
      "permalink                   0.006090\n",
      "name                        0.006960\n",
      "homepage_url                5.340629\n",
      "category_list               2.970013\n",
      "status                      0.006090\n",
      "country_code                7.549435\n",
      "state_code                  9.522484\n",
      "region                      8.844792\n",
      "city                        8.842182\n",
      "founded_at                 17.857485\n",
      "dtype: float64\n"
     ]
    }
   ],
   "source": [
    "#Check how much % of data is missing from master_frame dataframe.\n",
    "print(100*(master_frame.isnull().sum()/len(master_frame.index)))"
   ]
  },
  {
   "cell_type": "code",
   "execution_count": 14,
   "metadata": {},
   "outputs": [],
   "source": [
    "#As looking to Goals of data analysis 'funding_round_code', 'founded_at', 'homepage_url' column will not be \n",
    "#required for further analysis, so its better to drop these column.\n",
    "master_frame = master_frame.drop(['funding_round_code', 'founded_at', 'homepage_url'], axis=1)"
   ]
  },
  {
   "cell_type": "code",
   "execution_count": 15,
   "metadata": {},
   "outputs": [
    {
     "name": "stdout",
     "output_type": "stream",
     "text": [
      "<class 'pandas.core.frame.DataFrame'>\n",
      "Int64Index: 87904 entries, 0 to 114948\n",
      "Data columns (total 13 columns):\n",
      "company_permalink          87904 non-null object\n",
      "funding_round_permalink    87904 non-null object\n",
      "funding_round_type         87904 non-null object\n",
      "funded_at                  87904 non-null object\n",
      "raised_amount_usd          87904 non-null float64\n",
      "permalink                  87903 non-null object\n",
      "name                       87903 non-null object\n",
      "category_list              87270 non-null object\n",
      "status                     87903 non-null object\n",
      "country_code               83277 non-null object\n",
      "state_code                 81660 non-null object\n",
      "region                     82186 non-null object\n",
      "city                       82189 non-null object\n",
      "dtypes: float64(1), object(12)\n",
      "memory usage: 9.4+ MB\n"
     ]
    },
    {
     "data": {
      "text/plain": [
       "48854"
      ]
     },
     "execution_count": 15,
     "metadata": {},
     "output_type": "execute_result"
    }
   ],
   "source": [
    "#Removing Null values from column raised_amount_usd\n",
    "master_frame = master_frame[pd.notnull(master_frame['raised_amount_usd'])]\n",
    "master_frame = master_frame[master_frame['status']!='closed']\n",
    "master_frame.info()\n",
    "len(master_frame.name.unique())"
   ]
  },
  {
   "cell_type": "markdown",
   "metadata": {},
   "source": [
    "## Checkpoint 2: Funding Type Analysis"
   ]
  },
  {
   "cell_type": "code",
   "execution_count": 16,
   "metadata": {},
   "outputs": [
    {
     "name": "stdout",
     "output_type": "stream",
     "text": [
      "<class 'pandas.core.frame.DataFrame'>\n",
      "Int64Index: 87904 entries, 0 to 114948\n",
      "Data columns (total 14 columns):\n",
      "company_permalink           87904 non-null object\n",
      "funding_round_permalink     87904 non-null object\n",
      "funding_round_type          87904 non-null object\n",
      "funded_at                   87904 non-null object\n",
      "raised_amount_usd           87904 non-null float64\n",
      "permalink                   87903 non-null object\n",
      "name                        87903 non-null object\n",
      "category_list               87270 non-null object\n",
      "status                      87903 non-null object\n",
      "country_code                83277 non-null object\n",
      "state_code                  81660 non-null object\n",
      "region                      82186 non-null object\n",
      "city                        82189 non-null object\n",
      "raised_amount_millionUsd    87904 non-null float64\n",
      "dtypes: float64(2), object(12)\n",
      "memory usage: 10.1+ MB\n"
     ]
    }
   ],
   "source": [
    "#Just for simplicity of calculation Convert column 'raised_amount_usd' in million USD from USD.\n",
    "master_frame['raised_amount_millionUsd'] = master_frame['raised_amount_usd'].apply(lambda value: value/1000000)\n",
    "master_frame.info()"
   ]
  },
  {
   "cell_type": "code",
   "execution_count": 17,
   "metadata": {},
   "outputs": [
    {
     "data": {
      "text/html": [
       "<div>\n",
       "<style scoped>\n",
       "    .dataframe tbody tr th:only-of-type {\n",
       "        vertical-align: middle;\n",
       "    }\n",
       "\n",
       "    .dataframe tbody tr th {\n",
       "        vertical-align: top;\n",
       "    }\n",
       "\n",
       "    .dataframe thead th {\n",
       "        text-align: right;\n",
       "    }\n",
       "</style>\n",
       "<table border=\"1\" class=\"dataframe\">\n",
       "  <thead>\n",
       "    <tr style=\"text-align: right;\">\n",
       "      <th></th>\n",
       "      <th>raised_amount_usd</th>\n",
       "      <th>raised_amount_millionUsd</th>\n",
       "    </tr>\n",
       "    <tr>\n",
       "      <th>funding_round_type</th>\n",
       "      <th></th>\n",
       "      <th></th>\n",
       "    </tr>\n",
       "  </thead>\n",
       "  <tbody>\n",
       "    <tr>\n",
       "      <th>angel</th>\n",
       "      <td>9.799154e+05</td>\n",
       "      <td>0.979915</td>\n",
       "    </tr>\n",
       "    <tr>\n",
       "      <th>convertible_note</th>\n",
       "      <td>1.479851e+06</td>\n",
       "      <td>1.479851</td>\n",
       "    </tr>\n",
       "    <tr>\n",
       "      <th>debt_financing</th>\n",
       "      <td>1.777407e+07</td>\n",
       "      <td>17.774074</td>\n",
       "    </tr>\n",
       "    <tr>\n",
       "      <th>equity_crowdfunding</th>\n",
       "      <td>5.198441e+05</td>\n",
       "      <td>0.519844</td>\n",
       "    </tr>\n",
       "    <tr>\n",
       "      <th>grant</th>\n",
       "      <td>4.154314e+06</td>\n",
       "      <td>4.154314</td>\n",
       "    </tr>\n",
       "    <tr>\n",
       "      <th>non_equity_assistance</th>\n",
       "      <td>4.028160e+05</td>\n",
       "      <td>0.402816</td>\n",
       "    </tr>\n",
       "    <tr>\n",
       "      <th>post_ipo_debt</th>\n",
       "      <td>1.746093e+08</td>\n",
       "      <td>174.609328</td>\n",
       "    </tr>\n",
       "    <tr>\n",
       "      <th>post_ipo_equity</th>\n",
       "      <td>8.423386e+07</td>\n",
       "      <td>84.233861</td>\n",
       "    </tr>\n",
       "    <tr>\n",
       "      <th>private_equity</th>\n",
       "      <td>7.557581e+07</td>\n",
       "      <td>75.575808</td>\n",
       "    </tr>\n",
       "    <tr>\n",
       "      <th>product_crowdfunding</th>\n",
       "      <td>1.411511e+06</td>\n",
       "      <td>1.411511</td>\n",
       "    </tr>\n",
       "    <tr>\n",
       "      <th>secondary_market</th>\n",
       "      <td>9.143981e+07</td>\n",
       "      <td>91.439812</td>\n",
       "    </tr>\n",
       "    <tr>\n",
       "      <th>seed</th>\n",
       "      <td>7.386310e+05</td>\n",
       "      <td>0.738631</td>\n",
       "    </tr>\n",
       "    <tr>\n",
       "      <th>undisclosed</th>\n",
       "      <td>1.883708e+07</td>\n",
       "      <td>18.837084</td>\n",
       "    </tr>\n",
       "    <tr>\n",
       "      <th>venture</th>\n",
       "      <td>1.189560e+07</td>\n",
       "      <td>11.895603</td>\n",
       "    </tr>\n",
       "  </tbody>\n",
       "</table>\n",
       "</div>"
      ],
      "text/plain": [
       "                       raised_amount_usd  raised_amount_millionUsd\n",
       "funding_round_type                                                \n",
       "angel                       9.799154e+05                  0.979915\n",
       "convertible_note            1.479851e+06                  1.479851\n",
       "debt_financing              1.777407e+07                 17.774074\n",
       "equity_crowdfunding         5.198441e+05                  0.519844\n",
       "grant                       4.154314e+06                  4.154314\n",
       "non_equity_assistance       4.028160e+05                  0.402816\n",
       "post_ipo_debt               1.746093e+08                174.609328\n",
       "post_ipo_equity             8.423386e+07                 84.233861\n",
       "private_equity              7.557581e+07                 75.575808\n",
       "product_crowdfunding        1.411511e+06                  1.411511\n",
       "secondary_market            9.143981e+07                 91.439812\n",
       "seed                        7.386310e+05                  0.738631\n",
       "undisclosed                 1.883708e+07                 18.837084\n",
       "venture                     1.189560e+07                 11.895603"
      ]
     },
     "execution_count": 17,
     "metadata": {},
     "output_type": "execute_result"
    }
   ],
   "source": [
    "#Most representative value of the investment amount for funding types.\n",
    "master_frame.groupby('funding_round_type').mean()"
   ]
  },
  {
   "cell_type": "markdown",
   "metadata": {},
   "source": [
    "#### Calculate the most representative value of the investment amount for each of the four funding types (venture, angel, seed, and private equity) \n",
    "### Table 2.1\n",
    "1.\n",
    "\n",
    "    a) The most representative value for the investment amount of funding type venture is: 11.90 (millionUsd)\n",
    "    b) The most representative value for the investment amount of funding type angel is: 0.981574 (millionUsd)\n",
    "    c) The most representative value for the investment amount of funding type seed is: 0.747794 (millionUsd)\n",
    "    d) The most representative value for the investment amount of funding type private equity is: 75.575808 (millionUsd)                        \n",
    "    \n",
    "2. Based on the most representative investment amount calculated above, which investment type do you think is the most            suitable for Spark Funds?   \n",
    "   Answer: **Venture**"
   ]
  },
  {
   "cell_type": "markdown",
   "metadata": {},
   "source": [
    "# Checkpoints - Part 2\n",
    "## Checkpoint 3: Country Analysis\n"
   ]
  },
  {
   "cell_type": "code",
   "execution_count": 18,
   "metadata": {},
   "outputs": [
    {
     "data": {
      "text/plain": [
       "country_code\n",
       "USA    3.999351e+11\n",
       "CHN    3.910177e+10\n",
       "GBR    1.824134e+10\n",
       "IND    1.405060e+10\n",
       "CAN    8.825487e+09\n",
       "FRA    6.775044e+09\n",
       "ISR    6.503021e+09\n",
       "DEU    6.061141e+09\n",
       "JPN    3.242032e+09\n",
       "Name: raised_amount_usd, dtype: float64"
      ]
     },
     "execution_count": 18,
     "metadata": {},
     "output_type": "execute_result"
    }
   ],
   "source": [
    "#Spark Funds wants to invest in countries with the highest amount of funding for the Venture investment type,\n",
    "#so filtring dataframe for Venture investment type.\n",
    "df_venture =  master_frame[master_frame['funding_round_type'] == 'venture']\n",
    "top9 =  df_venture[df_venture['country_code'].isin(['USA', 'CHN', 'GBR', 'IND', 'CAN', 'FRA', 'ISR', 'DEU', 'JPN' ])]\n",
    "top9.groupby('country_code')['raised_amount_usd'].sum().sort_values(ascending=False)"
   ]
  },
  {
   "cell_type": "markdown",
   "metadata": {},
   "source": [
    "### The Top 3 English-Speaking Countries\n",
    "### Table 3.1: Analysing the Top 3 English-Speaking Countries\n",
    "\n",
    " 1. Top English-speaking country\t   USA            \n",
    " 2. Second English-speaking country\t   GBR \n",
    " 3. Third English-speaking country     IND"
   ]
  },
  {
   "cell_type": "markdown",
   "metadata": {},
   "source": [
    "## Checkpoint 4: Sector Analysis 1"
   ]
  },
  {
   "cell_type": "markdown",
   "metadata": {},
   "source": [
    "### Extract the primary sector of each category list from the category_list column"
   ]
  },
  {
   "cell_type": "code",
   "execution_count": 19,
   "metadata": {},
   "outputs": [
    {
     "name": "stderr",
     "output_type": "stream",
     "text": [
      "C:\\Users\\Aniket-PC\\Anaconda3\\lib\\site-packages\\ipykernel_launcher.py:4: SettingWithCopyWarning: \n",
      "A value is trying to be set on a copy of a slice from a DataFrame.\n",
      "Try using .loc[row_indexer,col_indexer] = value instead\n",
      "\n",
      "See the caveats in the documentation: http://pandas.pydata.org/pandas-docs/stable/indexing.html#indexing-view-versus-copy\n",
      "  after removing the cwd from sys.path.\n"
     ]
    }
   ],
   "source": [
    "#Extract the primary sector of each category list from the category_list column\n",
    "df_primary_sector = df_venture['category_list'].str.split('|',n=1,expand=True)\n",
    "type(df_primary_sector)\n",
    "df_venture['primary_Sector']=df_primary_sector[0]"
   ]
  },
  {
   "cell_type": "code",
   "execution_count": 30,
   "metadata": {},
   "outputs": [
    {
     "name": "stdout",
     "output_type": "stream",
     "text": [
      "<class 'pandas.core.frame.DataFrame'>\n",
      "Int64Index: 46641 entries, 0 to 114941\n",
      "Data columns (total 15 columns):\n",
      "company_permalink           46641 non-null object\n",
      "funding_round_permalink     46641 non-null object\n",
      "funding_round_type          46641 non-null object\n",
      "funded_at                   46641 non-null object\n",
      "raised_amount_usd           46641 non-null float64\n",
      "permalink                   46641 non-null object\n",
      "name                        46641 non-null object\n",
      "category_list               46355 non-null object\n",
      "status                      46641 non-null object\n",
      "country_code                44949 non-null object\n",
      "state_code                  44253 non-null object\n",
      "region                      44400 non-null object\n",
      "city                        44400 non-null object\n",
      "raised_amount_millionUsd    46641 non-null float64\n",
      "primary_Sector              46355 non-null object\n",
      "dtypes: float64(2), object(13)\n",
      "memory usage: 5.7+ MB\n"
     ]
    }
   ],
   "source": [
    "#df_venture = df_venture.drop('primary_Sector', axis=1)\n",
    "df_venture.info()"
   ]
  },
  {
   "cell_type": "markdown",
   "metadata": {},
   "source": [
    "### Read data from **mapping.csv** to pandas dataframe."
   ]
  },
  {
   "cell_type": "code",
   "execution_count": 31,
   "metadata": {},
   "outputs": [],
   "source": [
    "mapping=pd.read_csv('mapping.csv')"
   ]
  },
  {
   "cell_type": "markdown",
   "metadata": {},
   "source": [
    "### Data Analysis of mapping DataFrame."
   ]
  },
  {
   "cell_type": "code",
   "execution_count": 32,
   "metadata": {},
   "outputs": [
    {
     "data": {
      "text/plain": [
       "category_list                              1\n",
       "Automotive & Sports                        0\n",
       "Blanks                                     0\n",
       "Cleantech / Semiconductors                 0\n",
       "Entertainment                              0\n",
       "Health                                     0\n",
       "Manufacturing                              0\n",
       "News, Search and Messaging                 0\n",
       "Others                                     0\n",
       "Social, Finance, Analytics, Advertising    0\n",
       "dtype: int64"
      ]
     },
     "execution_count": 32,
     "metadata": {},
     "output_type": "execute_result"
    }
   ],
   "source": [
    "mapping.isna().sum()"
   ]
  },
  {
   "cell_type": "code",
   "execution_count": 33,
   "metadata": {},
   "outputs": [
    {
     "data": {
      "text/plain": [
       "Index(['category_list', 'Automotive & Sports', 'Blanks',\n",
       "       'Cleantech / Semiconductors', 'Entertainment', 'Health',\n",
       "       'Manufacturing', 'News, Search and Messaging', 'Others',\n",
       "       'Social, Finance, Analytics, Advertising'],\n",
       "      dtype='object')"
      ]
     },
     "execution_count": 33,
     "metadata": {},
     "output_type": "execute_result"
    }
   ],
   "source": [
    "mapping.columns"
   ]
  },
  {
   "cell_type": "code",
   "execution_count": 34,
   "metadata": {},
   "outputs": [],
   "source": [
    "# Arrange mapping datafreame using melt function.\n",
    "df_melt_mapping = pd.melt(mapping, id_vars=['category_list'],value_vars=['Automotive & Sports', 'Blanks',\n",
    "       'Cleantech / Semiconductors', 'Entertainment', 'Health',\n",
    "       'Manufacturing', 'News, Search and Messaging', 'Others',\n",
    "       'Social, Finance, Analytics, Advertising'], var_name ='main_sector')"
   ]
  },
  {
   "cell_type": "code",
   "execution_count": 35,
   "metadata": {},
   "outputs": [],
   "source": [
    "# As we are not interested value=0 , so filtering df_melt_mapping dataframe for value 1\n",
    "df_melt_mapping = df_melt_mapping[df_melt_mapping.value==1]"
   ]
  },
  {
   "cell_type": "code",
   "execution_count": 36,
   "metadata": {},
   "outputs": [],
   "source": [
    "#Rename category_list column of df_melt_mapping to primary_Sector\n",
    "df_melt_mapping =  df_melt_mapping.rename(columns={'category_list':'primary_Sector'})"
   ]
  },
  {
   "cell_type": "code",
   "execution_count": 37,
   "metadata": {},
   "outputs": [],
   "source": [
    "# For further analysis we dont require vale column of df_melt_mapping, so droping it.\n",
    "df_melt_mapping = df_melt_mapping.drop('value',axis=1)"
   ]
  },
  {
   "cell_type": "markdown",
   "metadata": {},
   "source": [
    "### Code for a merged data frame with each primary sector mapped to its main sector "
   ]
  },
  {
   "cell_type": "code",
   "execution_count": 38,
   "metadata": {},
   "outputs": [],
   "source": [
    "df_mapped_primarySector_mainSector = pd.merge(df_venture,df_melt_mapping,on='primary_Sector',how='inner')"
   ]
  },
  {
   "cell_type": "code",
   "execution_count": 39,
   "metadata": {},
   "outputs": [
    {
     "name": "stdout",
     "output_type": "stream",
     "text": [
      "<class 'pandas.core.frame.DataFrame'>\n",
      "Int64Index: 43573 entries, 0 to 43572\n",
      "Data columns (total 16 columns):\n",
      "company_permalink           43573 non-null object\n",
      "funding_round_permalink     43573 non-null object\n",
      "funding_round_type          43573 non-null object\n",
      "funded_at                   43573 non-null object\n",
      "raised_amount_usd           43573 non-null float64\n",
      "permalink                   43573 non-null object\n",
      "name                        43573 non-null object\n",
      "category_list               43287 non-null object\n",
      "status                      43573 non-null object\n",
      "country_code                41962 non-null object\n",
      "state_code                  41307 non-null object\n",
      "region                      41426 non-null object\n",
      "city                        41426 non-null object\n",
      "raised_amount_millionUsd    43573 non-null float64\n",
      "primary_Sector              43287 non-null object\n",
      "main_sector                 43573 non-null object\n",
      "dtypes: float64(2), object(14)\n",
      "memory usage: 5.7+ MB\n"
     ]
    }
   ],
   "source": [
    "df_mapped_primarySector_mainSector.info()"
   ]
  },
  {
   "cell_type": "markdown",
   "metadata": {},
   "source": [
    "## Checkpoint 5: Sector Analysis 2"
   ]
  },
  {
   "cell_type": "markdown",
   "metadata": {},
   "source": [
    "### Create three separate data frames D1, D2 and D3 for each of the three countries containing the observations of funding type FT falling within the 5-15 million USD range."
   ]
  },
  {
   "cell_type": "markdown",
   "metadata": {},
   "source": [
    "#### Data frames D1 for country USA"
   ]
  },
  {
   "cell_type": "code",
   "execution_count": 40,
   "metadata": {},
   "outputs": [],
   "source": [
    "#Filter data for country USA from df_mapped_primarySector_mainSector dataframe \n",
    "D1 = df_mapped_primarySector_mainSector[df_mapped_primarySector_mainSector['country_code'] == 'USA']\n",
    "#Filter data between 5-15 million USD range from D1 dataframe.\n",
    "D1 = D1[D1['raised_amount_millionUsd'].between(5.0,15.0,inclusive=True)]\n",
    "D1_main_sector=D1.groupby('main_sector')\n",
    "# The total number (or count) of investments for each main sector \n",
    "D1['total_number_investments']  =  D1.groupby('main_sector')['main_sector'].transform('count')\n",
    "#The total amount invested in each main sector \n",
    "D1['total_amount_investments'] =D1.groupby('main_sector')['raised_amount_millionUsd'].transform('sum')"
   ]
  },
  {
   "cell_type": "markdown",
   "metadata": {},
   "source": [
    "#### Data frames D2 for country GBR"
   ]
  },
  {
   "cell_type": "code",
   "execution_count": 41,
   "metadata": {},
   "outputs": [],
   "source": [
    "#Filter data for country GBR from df_mapped_primarySector_mainSector dataframe \n",
    "D2 = df_mapped_primarySector_mainSector[df_mapped_primarySector_mainSector['country_code'] == 'GBR']\n",
    "#Filter data between 5-15 million USD range from D2 dataframe.\n",
    "D2 = D2[D2['raised_amount_millionUsd'].between(5.0,15.0,inclusive=True)]\n",
    "D2_main_sector=D2.groupby('main_sector')\n",
    "# The total number (or count) of investments for each main sector \n",
    "D2['total_number_investments']  =  D2.groupby('main_sector')['main_sector'].transform('count')\n",
    "#The total amount invested in each main sector \n",
    "D2['total_amount_investments'] =D2.groupby('main_sector')['raised_amount_millionUsd'].transform('sum')"
   ]
  },
  {
   "cell_type": "markdown",
   "metadata": {},
   "source": [
    "#### Data frames D3 for country IND"
   ]
  },
  {
   "cell_type": "code",
   "execution_count": 42,
   "metadata": {},
   "outputs": [],
   "source": [
    "#Filter data for country GBR from df_mapped_primarySector_mainSector dataframe \n",
    "D3 = df_mapped_primarySector_mainSector[df_mapped_primarySector_mainSector['country_code'] == 'IND']\n",
    "#Filter data between 5-15 million USD range from D2 dataframe.\n",
    "D3 = D3[D3['raised_amount_millionUsd'].between(5.0,15.0,inclusive=True)]\n",
    "D3_main_sector=D3.groupby('main_sector')\n",
    "# The total number (or count) of investments for each main sector \n",
    "D3['total_number_investments']  =  D3.groupby('main_sector')['main_sector'].transform('count')\n",
    "#The total amount invested in each main sector \n",
    "D3['total_amount_investments'] =D3.groupby('main_sector')['raised_amount_millionUsd'].transform('sum')"
   ]
  },
  {
   "cell_type": "markdown",
   "metadata": {},
   "source": [
    "#### 1. Total number of investments (count)"
   ]
  },
  {
   "cell_type": "code",
   "execution_count": 43,
   "metadata": {},
   "outputs": [
    {
     "data": {
      "text/plain": [
       "10461"
      ]
     },
     "execution_count": 43,
     "metadata": {},
     "output_type": "execute_result"
    }
   ],
   "source": [
    "D1.shape[0]"
   ]
  },
  {
   "cell_type": "code",
   "execution_count": 44,
   "metadata": {},
   "outputs": [
    {
     "data": {
      "text/plain": [
       "547"
      ]
     },
     "execution_count": 44,
     "metadata": {},
     "output_type": "execute_result"
    }
   ],
   "source": [
    "D2.shape[0]\n"
   ]
  },
  {
   "cell_type": "code",
   "execution_count": 45,
   "metadata": {},
   "outputs": [
    {
     "data": {
      "text/plain": [
       "289"
      ]
     },
     "execution_count": 45,
     "metadata": {},
     "output_type": "execute_result"
    }
   ],
   "source": [
    "D3.shape[0]"
   ]
  },
  {
   "cell_type": "markdown",
   "metadata": {},
   "source": [
    "#### 2. Total amount of investment (USD)"
   ]
  },
  {
   "cell_type": "code",
   "execution_count": 46,
   "metadata": {},
   "outputs": [
    {
     "data": {
      "text/plain": [
       "93711335580.0"
      ]
     },
     "execution_count": 46,
     "metadata": {},
     "output_type": "execute_result"
    }
   ],
   "source": [
    "D1.raised_amount_usd.sum()"
   ]
  },
  {
   "cell_type": "code",
   "execution_count": 47,
   "metadata": {},
   "outputs": [
    {
     "data": {
      "text/plain": [
       "4768984985.0"
      ]
     },
     "execution_count": 47,
     "metadata": {},
     "output_type": "execute_result"
    }
   ],
   "source": [
    "D2.raised_amount_usd.sum()"
   ]
  },
  {
   "cell_type": "code",
   "execution_count": 48,
   "metadata": {},
   "outputs": [
    {
     "data": {
      "text/plain": [
       "2596667552.0"
      ]
     },
     "execution_count": 48,
     "metadata": {},
     "output_type": "execute_result"
    }
   ],
   "source": [
    "D3.raised_amount_usd.sum()"
   ]
  },
  {
   "cell_type": "markdown",
   "metadata": {},
   "source": [
    "####  3. Top sector (based on count of investments)"
   ]
  },
  {
   "cell_type": "code",
   "execution_count": 49,
   "metadata": {},
   "outputs": [
    {
     "data": {
      "text/plain": [
       "'Others'"
      ]
     },
     "execution_count": 49,
     "metadata": {},
     "output_type": "execute_result"
    }
   ],
   "source": [
    "top_sector=D1.groupby('main_sector')['main_sector'].count().sort_values(ascending=False).nlargest(3).index[0]\n",
    "top_sector"
   ]
  },
  {
   "cell_type": "code",
   "execution_count": 50,
   "metadata": {},
   "outputs": [
    {
     "data": {
      "text/plain": [
       "'Others'"
      ]
     },
     "execution_count": 50,
     "metadata": {},
     "output_type": "execute_result"
    }
   ],
   "source": [
    "top_sector=D2.groupby('main_sector')['main_sector'].count().sort_values(ascending=False).nlargest(3).index[0]\n",
    "top_sector"
   ]
  },
  {
   "cell_type": "code",
   "execution_count": 51,
   "metadata": {},
   "outputs": [
    {
     "data": {
      "text/plain": [
       "'Others'"
      ]
     },
     "execution_count": 51,
     "metadata": {},
     "output_type": "execute_result"
    }
   ],
   "source": [
    "top_sector=D3.groupby('main_sector')['main_sector'].count().sort_values(ascending=False).nlargest(3).index[0]\n",
    "top_sector"
   ]
  },
  {
   "cell_type": "markdown",
   "metadata": {},
   "source": [
    "#### 4. Second-best sector (based on count of investments)"
   ]
  },
  {
   "cell_type": "code",
   "execution_count": 52,
   "metadata": {},
   "outputs": [
    {
     "data": {
      "text/plain": [
       "'Cleantech / Semiconductors'"
      ]
     },
     "execution_count": 52,
     "metadata": {},
     "output_type": "execute_result"
    }
   ],
   "source": [
    "Second_best=D1.groupby('main_sector')['main_sector'].count().sort_values(ascending=False).nlargest(3).index[1]\n",
    "Second_best"
   ]
  },
  {
   "cell_type": "code",
   "execution_count": 53,
   "metadata": {},
   "outputs": [
    {
     "data": {
      "text/plain": [
       "'Cleantech / Semiconductors'"
      ]
     },
     "execution_count": 53,
     "metadata": {},
     "output_type": "execute_result"
    }
   ],
   "source": [
    "Second_best=D2.groupby('main_sector')['main_sector'].count().sort_values(ascending=False).nlargest(3).index[1]\n",
    "Second_best"
   ]
  },
  {
   "cell_type": "code",
   "execution_count": 54,
   "metadata": {},
   "outputs": [
    {
     "data": {
      "text/plain": [
       "'News, Search and Messaging'"
      ]
     },
     "execution_count": 54,
     "metadata": {},
     "output_type": "execute_result"
    }
   ],
   "source": [
    "Second_best=D3.groupby('main_sector')['main_sector'].count().sort_values(ascending=False).nlargest(3).index[1]\n",
    "Second_best"
   ]
  },
  {
   "cell_type": "markdown",
   "metadata": {},
   "source": [
    " ### 5. Third-best sector (based on count of investments)"
   ]
  },
  {
   "cell_type": "code",
   "execution_count": 55,
   "metadata": {},
   "outputs": [
    {
     "data": {
      "text/plain": [
       "'Social, Finance, Analytics, Advertising'"
      ]
     },
     "execution_count": 55,
     "metadata": {},
     "output_type": "execute_result"
    }
   ],
   "source": [
    "third_best=D1.groupby('main_sector')['main_sector'].count().sort_values(ascending=False).nlargest(3).index[2]\n",
    "third_best"
   ]
  },
  {
   "cell_type": "code",
   "execution_count": 56,
   "metadata": {},
   "outputs": [
    {
     "data": {
      "text/plain": [
       "'Social, Finance, Analytics, Advertising'"
      ]
     },
     "execution_count": 56,
     "metadata": {},
     "output_type": "execute_result"
    }
   ],
   "source": [
    "third_best=D2.groupby('main_sector')['main_sector'].count().sort_values(ascending=False).nlargest(3).index[2]\n",
    "third_best"
   ]
  },
  {
   "cell_type": "code",
   "execution_count": 57,
   "metadata": {},
   "outputs": [
    {
     "data": {
      "text/plain": [
       "'Social, Finance, Analytics, Advertising'"
      ]
     },
     "execution_count": 57,
     "metadata": {},
     "output_type": "execute_result"
    }
   ],
   "source": [
    "third_best=D3.groupby('main_sector')['main_sector'].count().sort_values(ascending=False).nlargest(3).index[2]\n",
    "third_best"
   ]
  },
  {
   "cell_type": "markdown",
   "metadata": {},
   "source": [
    "#### 6. Number of investments in the top sector (refer to point 3)"
   ]
  },
  {
   "cell_type": "code",
   "execution_count": 58,
   "metadata": {},
   "outputs": [
    {
     "data": {
      "text/plain": [
       "2732"
      ]
     },
     "execution_count": 58,
     "metadata": {},
     "output_type": "execute_result"
    }
   ],
   "source": [
    "D1[D1.main_sector == top_sector].shape[0]"
   ]
  },
  {
   "cell_type": "code",
   "execution_count": 59,
   "metadata": {},
   "outputs": [
    {
     "data": {
      "text/plain": [
       "137"
      ]
     },
     "execution_count": 59,
     "metadata": {},
     "output_type": "execute_result"
    }
   ],
   "source": [
    "D2[D2.main_sector == top_sector].shape[0]"
   ]
  },
  {
   "cell_type": "code",
   "execution_count": 60,
   "metadata": {},
   "outputs": [
    {
     "data": {
      "text/plain": [
       "102"
      ]
     },
     "execution_count": 60,
     "metadata": {},
     "output_type": "execute_result"
    }
   ],
   "source": [
    "D3[D3.main_sector == top_sector].shape[0]"
   ]
  },
  {
   "cell_type": "markdown",
   "metadata": {},
   "source": [
    "#### 7. Number of investments in the second-best sector (refer to point 4)"
   ]
  },
  {
   "cell_type": "code",
   "execution_count": 61,
   "metadata": {},
   "outputs": [
    {
     "data": {
      "text/plain": [
       "1445"
      ]
     },
     "execution_count": 61,
     "metadata": {},
     "output_type": "execute_result"
    }
   ],
   "source": [
    "D1[D1.main_sector == Second_best].shape[0]"
   ]
  },
  {
   "cell_type": "code",
   "execution_count": 62,
   "metadata": {},
   "outputs": [
    {
     "data": {
      "text/plain": [
       "66"
      ]
     },
     "execution_count": 62,
     "metadata": {},
     "output_type": "execute_result"
    }
   ],
   "source": [
    "D2[D2.main_sector == Second_best].shape[0]"
   ]
  },
  {
   "cell_type": "code",
   "execution_count": 63,
   "metadata": {},
   "outputs": [
    {
     "data": {
      "text/plain": [
       "49"
      ]
     },
     "execution_count": 63,
     "metadata": {},
     "output_type": "execute_result"
    }
   ],
   "source": [
    "D3[D3.main_sector == Second_best].shape[0]"
   ]
  },
  {
   "cell_type": "markdown",
   "metadata": {},
   "source": [
    "####  8. Number of investments in the third-best sector (refer to point 5)"
   ]
  },
  {
   "cell_type": "code",
   "execution_count": 64,
   "metadata": {},
   "outputs": [
    {
     "data": {
      "text/plain": [
       "1813"
      ]
     },
     "execution_count": 64,
     "metadata": {},
     "output_type": "execute_result"
    }
   ],
   "source": [
    "D1[D1.main_sector == third_best].shape[0]"
   ]
  },
  {
   "cell_type": "code",
   "execution_count": 65,
   "metadata": {},
   "outputs": [
    {
     "data": {
      "text/plain": [
       "95"
      ]
     },
     "execution_count": 65,
     "metadata": {},
     "output_type": "execute_result"
    }
   ],
   "source": [
    "D2[D2.main_sector == third_best].shape[0]"
   ]
  },
  {
   "cell_type": "code",
   "execution_count": 66,
   "metadata": {},
   "outputs": [
    {
     "data": {
      "text/plain": [
       "32"
      ]
     },
     "execution_count": 66,
     "metadata": {},
     "output_type": "execute_result"
    }
   ],
   "source": [
    "D3[D3.main_sector == third_best].shape[0]"
   ]
  },
  {
   "cell_type": "markdown",
   "metadata": {},
   "source": [
    "#### 9. For the top sector count-wise (point 3), which company received the highest investment?"
   ]
  },
  {
   "cell_type": "code",
   "execution_count": 67,
   "metadata": {},
   "outputs": [
    {
     "data": {
      "text/plain": [
       "'Code Green Networks'"
      ]
     },
     "execution_count": 67,
     "metadata": {},
     "output_type": "execute_result"
    }
   ],
   "source": [
    "D1[D1.main_sector == top_sector].sort_values(by = 'raised_amount_usd', ascending = False).head(1)['name'].values[0]"
   ]
  },
  {
   "cell_type": "code",
   "execution_count": 68,
   "metadata": {},
   "outputs": [
    {
     "data": {
      "text/plain": [
       "'Notonthehighstreet'"
      ]
     },
     "execution_count": 68,
     "metadata": {},
     "output_type": "execute_result"
    }
   ],
   "source": [
    "D2[D2.main_sector == top_sector].sort_values(by = 'raised_amount_usd', ascending = False).head(1)['name'].values[0]"
   ]
  },
  {
   "cell_type": "code",
   "execution_count": 69,
   "metadata": {},
   "outputs": [
    {
     "data": {
      "text/plain": [
       "'ItzCash Card Ltd.'"
      ]
     },
     "execution_count": 69,
     "metadata": {},
     "output_type": "execute_result"
    }
   ],
   "source": [
    "D3[D3.main_sector == top_sector].sort_values(by = 'raised_amount_usd', ascending = False).head(1)['name'].values[0]"
   ]
  },
  {
   "cell_type": "markdown",
   "metadata": {},
   "source": [
    "#### 10. For the second-best sector count-wise (point 4), which company received the highest investment?"
   ]
  },
  {
   "cell_type": "code",
   "execution_count": 70,
   "metadata": {},
   "outputs": [
    {
     "data": {
      "text/plain": [
       "'Media Temple'"
      ]
     },
     "execution_count": 70,
     "metadata": {},
     "output_type": "execute_result"
    }
   ],
   "source": [
    "D1[D1.main_sector == Second_best].sort_values(by = 'raised_amount_usd', ascending = False).head(1)['name'].values[0]"
   ]
  },
  {
   "cell_type": "code",
   "execution_count": 71,
   "metadata": {},
   "outputs": [
    {
     "data": {
      "text/plain": [
       "'Kaazing'"
      ]
     },
     "execution_count": 71,
     "metadata": {},
     "output_type": "execute_result"
    }
   ],
   "source": [
    "D2[D2.main_sector == Second_best].sort_values(by = 'raised_amount_usd', ascending = False).head(1)['name'].values[0]"
   ]
  },
  {
   "cell_type": "code",
   "execution_count": 72,
   "metadata": {},
   "outputs": [
    {
     "data": {
      "text/plain": [
       "'Mobile2Win India'"
      ]
     },
     "execution_count": 72,
     "metadata": {},
     "output_type": "execute_result"
    }
   ],
   "source": [
    "D3[D3.main_sector == Second_best].sort_values(by = 'raised_amount_usd', ascending = False).head(1)['name'].values[0]"
   ]
  },
  {
   "cell_type": "markdown",
   "metadata": {},
   "source": [
    "## Checkpoint 6: Plots"
   ]
  },
  {
   "cell_type": "code",
   "execution_count": 73,
   "metadata": {},
   "outputs": [
    {
     "name": "stderr",
     "output_type": "stream",
     "text": [
      "C:\\Users\\Aniket-PC\\Anaconda3\\lib\\site-packages\\ipykernel_launcher.py:5: SettingWithCopyWarning: \n",
      "A value is trying to be set on a copy of a slice from a DataFrame.\n",
      "Try using .loc[row_indexer,col_indexer] = value instead\n",
      "\n",
      "See the caveats in the documentation: http://pandas.pydata.org/pandas-docs/stable/indexing.html#indexing-view-versus-copy\n",
      "  \"\"\"\n",
      "C:\\Users\\Aniket-PC\\Anaconda3\\lib\\site-packages\\scipy\\stats\\stats.py:1713: FutureWarning: Using a non-tuple sequence for multidimensional indexing is deprecated; use `arr[tuple(seq)]` instead of `arr[seq]`. In the future this will be interpreted as an array index, `arr[np.array(seq)]`, which will result either in an error or a different result.\n",
      "  return np.add.reduce(sorted[indexer] * weights, axis=axis) / sumval\n"
     ]
    },
    {
     "data": {
      "image/png": "[encoded data removed]",
      "text/plain": [
       "<Figure size 2160x1440 with 1 Axes>"
      ]
     },
     "metadata": {
      "needs_background": "light"
     },
     "output_type": "display_data"
    }
   ],
   "source": [
    "#1 A plot showing the fraction of total investments (globally) in venture, seed, and private equity, and the average amount of\n",
    "#investment in each funding type. This chart should make it clear that a certain funding type (FT) is best suited\n",
    "#for Spark Funds.\n",
    "funding_type =  master_frame[master_frame['funding_round_type'].isin(['private_equity', 'seed', 'venture'])]\n",
    "funding_type['avg_raised_amount_millionUsd'] = funding_type.groupby('funding_round_type')['raised_amount_millionUsd'].transform('sum')\n",
    "plt.figure(figsize=(30, 20))\n",
    "sns.barplot(y='funding_round_type', x='avg_raised_amount_millionUsd' ,data=funding_type)\n",
    "plt.show()"
   ]
  },
  {
   "cell_type": "code",
   "execution_count": 74,
   "metadata": {},
   "outputs": [
    {
     "name": "stderr",
     "output_type": "stream",
     "text": [
      "C:\\Users\\Aniket-PC\\Anaconda3\\lib\\site-packages\\ipykernel_launcher.py:5: SettingWithCopyWarning: \n",
      "A value is trying to be set on a copy of a slice from a DataFrame.\n",
      "Try using .loc[row_indexer,col_indexer] = value instead\n",
      "\n",
      "See the caveats in the documentation: http://pandas.pydata.org/pandas-docs/stable/indexing.html#indexing-view-versus-copy\n",
      "  \"\"\"\n"
     ]
    },
    {
     "data": {
      "image/png": "[encoded data removed]",
      "text/plain": [
       "<Figure size 2160x1440 with 1 Axes>"
      ]
     },
     "metadata": {
      "needs_background": "light"
     },
     "output_type": "display_data"
    }
   ],
   "source": [
    "# 2. A plot showing the top 9 countries against the total amount of investments of funding type FT. \n",
    "#This should make the top 3 countries (Country 1, Country 2, and Country 3) very clear.\n",
    "top9_country =  df_mapped_primarySector_mainSector[df_mapped_primarySector_mainSector['country_code']\n",
    "                                                   .isin(['USA', 'CHN', 'GBR', 'IND', 'CAN', 'FRA', 'ISR', 'DEU', 'JPN' ])]\n",
    "top9_country['total_amount_investments'] =top9_country.groupby('main_sector')['raised_amount_millionUsd'].transform('sum')\n",
    "top9_country\n",
    "plt.figure(figsize=(30, 20))\n",
    "sns.barplot(y='country_code', x='total_amount_investments', hue=\"funding_round_type\", data=top9_country, estimator=np.sum)\n",
    "plt.show()"
   ]
  },
  {
   "cell_type": "code",
   "execution_count": 75,
   "metadata": {},
   "outputs": [
    {
     "data": {
      "image/png": "[encoded data removed]",
      "text/plain": [
       "<Figure size 1440x720 with 1 Axes>"
      ]
     },
     "metadata": {
      "needs_background": "light"
     },
     "output_type": "display_data"
    }
   ],
   "source": [
    "# 3. A plot showing the number of investments in the top 3 sectors of the top 3 countries on \n",
    "#one chart (for the chosen investment type FT). \n",
    "\n",
    "#top 3 sector\n",
    "D1 = D1[D1['main_sector'].isin([\"Others\",\"Cleantech / Semiconductors\",\"Social, Finance, Analytics, Advertising\"])]\n",
    "D2 = D2[D2['main_sector'].isin([\"Others\",\"Cleantech / Semiconductors\",\"Social, Finance, Analytics, Advertising\"])]\n",
    "D3 = D3[D3['main_sector'].isin([\"Others\",'News, Search and Messaging',\"Social, Finance, Analytics, Advertising\"])]\n",
    "\n",
    "df_plot_3 = [D1, D2, D3]\n",
    "df_final_plot = pd.concat(df_plot_3)\n",
    "df_plot_3\n",
    "plt.figure(figsize=(20, 10))\n",
    "sns.barplot(y='country_code', x='raised_amount_usd', hue=\"main_sector\", data=df_final_plot, estimator=np.sum)\n",
    "plt.show()"
   ]
  },
  {
   "cell_type": "code",
   "execution_count": null,
   "metadata": {
    "slideshow": {
     "slide_type": "fragment"
    }
   },
   "outputs": [],
   "source": []
  }
 ],
 "metadata": {
  "kernelspec": {
   "display_name": "Python 3",
   "language": "python",
   "name": "python3"
  },
  "language_info": {
   "codemirror_mode": {
    "name": "ipython",
    "version": 3
   },
   "file_extension": ".py",
   "mimetype": "text/x-python",
   "name": "python",
   "nbconvert_exporter": "python",
   "pygments_lexer": "ipython3",
   "version": "3.7.4"
  }
 },
 "nbformat": 4,
 "nbformat_minor": 2
}
